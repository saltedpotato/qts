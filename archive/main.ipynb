{
 "cells": [
  {
   "cell_type": "markdown",
   "metadata": {},
   "source": [
    "# DEPENDENCIES"
   ]
  },
  {
   "cell_type": "code",
   "execution_count": 2,
   "metadata": {},
   "outputs": [],
   "source": [
    "import polars as pl\n",
    "\n",
    "from data.cons_data import get_cons\n",
    "from data.market_data import market_data\n",
    "from data.market_data import market_hours\n",
    "from pairs_finding.pairs_identification import cointegration_pairs\n",
    "from pairs_finding.clustering import Clustering\n",
    "\n",
    "import warnings\n",
    "\n",
    "warnings.filterwarnings(\"ignore\")"
   ]
  },
  {
   "cell_type": "code",
   "execution_count": 3,
   "metadata": {},
   "outputs": [],
   "source": [
    "data = market_data(\n",
    "    file_path=\"C:/Users/edmun/OneDrive/Desktop/Quantitative Trading Strategies/Project/qts/data/*.parquet\"\n",
    ")"
   ]
  },
  {
   "cell_type": "code",
   "execution_count": 7,
   "metadata": {},
   "outputs": [],
   "source": [
    "df = data.read(cons=['TSLA'], start='2017-01-01', end='2024-12-01')"
   ]
  },
  {
   "cell_type": "code",
   "execution_count": 10,
   "metadata": {},
   "outputs": [
    {
     "data": {
      "text/plain": [
       "<Axes: >"
      ]
     },
     "execution_count": 10,
     "metadata": {},
     "output_type": "execute_result"
    },
    {
     "data": {
      "image/png": "[encoded data removed]",
      "text/plain": [
       "<Figure size 640x480 with 1 Axes>"
      ]
     },
     "metadata": {},
     "output_type": "display_data"
    }
   ],
   "source": [
    "data.df.to_pandas()['TSLA'].plot()"
   ]
  },
  {
   "cell_type": "markdown",
   "metadata": {},
   "source": [
    "# CONSTITUENT DATA"
   ]
  },
  {
   "cell_type": "code",
   "execution_count": 14,
   "metadata": {},
   "outputs": [],
   "source": [
    "etf = \"QQQ\"\n",
    "\n",
    "cons = get_cons(etf=etf)"
   ]
  },
  {
   "cell_type": "code",
   "execution_count": 15,
   "metadata": {},
   "outputs": [
    {
     "data": {
      "text/plain": [
       "['AAPL',\n",
       " 'ABNB',\n",
       " 'ADBE',\n",
       " 'ADI',\n",
       " 'ADP',\n",
       " 'ADSK',\n",
       " 'AEP',\n",
       " 'AMAT',\n",
       " 'AMD',\n",
       " 'AMGN',\n",
       " 'AMZN',\n",
       " 'ANSS',\n",
       " 'ARM',\n",
       " 'ASML',\n",
       " 'AVGO',\n",
       " 'AZN',\n",
       " 'BIIB',\n",
       " 'BKNG',\n",
       " 'BKR',\n",
       " 'CCEP',\n",
       " 'CDNS',\n",
       " 'CDW',\n",
       " 'CEG',\n",
       " 'CHTR',\n",
       " 'CMCSA',\n",
       " 'COST',\n",
       " 'CPRT',\n",
       " 'CRWD',\n",
       " 'CSCO',\n",
       " 'CSGP',\n",
       " 'CSX',\n",
       " 'CTAS',\n",
       " 'CTSH',\n",
       " 'DASH',\n",
       " 'DDOG',\n",
       " 'DLTR',\n",
       " 'DXCM',\n",
       " 'EA',\n",
       " 'EXC',\n",
       " 'FANG',\n",
       " 'FAST',\n",
       " 'FTNT',\n",
       " 'GEHC',\n",
       " 'GFS',\n",
       " 'GILD',\n",
       " 'GOOG',\n",
       " 'GOOGL',\n",
       " 'HON',\n",
       " 'IDXX',\n",
       " 'ILMN',\n",
       " 'INTC',\n",
       " 'INTU',\n",
       " 'ISRG',\n",
       " 'KDP',\n",
       " 'KHC',\n",
       " 'KLAC',\n",
       " 'LIN',\n",
       " 'LRCX',\n",
       " 'LULU',\n",
       " 'MAR',\n",
       " 'MCHP',\n",
       " 'MDB',\n",
       " 'MDLZ',\n",
       " 'MELI',\n",
       " 'META',\n",
       " 'MNST',\n",
       " 'MRNA',\n",
       " 'MRVL',\n",
       " 'MSFT',\n",
       " 'MU',\n",
       " 'NFLX',\n",
       " 'NVDA',\n",
       " 'NXPI',\n",
       " 'ODFL',\n",
       " 'ON',\n",
       " 'ORLY',\n",
       " 'PANW',\n",
       " 'PAYX',\n",
       " 'PCAR',\n",
       " 'PDD',\n",
       " 'PEP',\n",
       " 'PYPL',\n",
       " 'QCOM',\n",
       " 'REGN',\n",
       " 'ROP',\n",
       " 'ROST',\n",
       " 'SBUX',\n",
       " 'SMCI.UW',\n",
       " 'SNPS',\n",
       " 'TEAM',\n",
       " 'TMUS',\n",
       " 'TSLA',\n",
       " 'TTD',\n",
       " 'TTWO',\n",
       " 'TXN',\n",
       " 'VRSK',\n",
       " 'VRTX',\n",
       " 'WBD',\n",
       " 'WDAY',\n",
       " 'XEL',\n",
       " 'ZS']"
      ]
     },
     "execution_count": 15,
     "metadata": {},
     "output_type": "execute_result"
    }
   ],
   "source": [
    "cons_date = cons.read()\n",
    "cons_date[\"2024-09-30\"]"
   ]
  },
  {
   "cell_type": "markdown",
   "metadata": {},
   "source": [
    "# MARKET DATA"
   ]
  },
  {
   "cell_type": "code",
   "execution_count": 16,
   "metadata": {},
   "outputs": [],
   "source": [
    "start = \"2024-09-30\"\n",
    "end = \"2024-12-31\""
   ]
  },
  {
   "cell_type": "code",
   "execution_count": 17,
   "metadata": {},
   "outputs": [],
   "source": [
    "d = market_data(\n",
    "    file_path=\"C:/Users/edmun/OneDrive/Desktop/Quantitative Trading Strategies/Project/qts/data/\"\n",
    ")"
   ]
  },
  {
   "cell_type": "code",
   "execution_count": 18,
   "metadata": {},
   "outputs": [
    {
     "data": {
      "text/plain": [
       "True"
      ]
     },
     "execution_count": 18,
     "metadata": {},
     "output_type": "execute_result"
    }
   ],
   "source": [
    "d.read(cons=cons_date[start], start=start, end=end)"
   ]
  },
  {
   "cell_type": "code",
   "execution_count": 9,
   "metadata": {},
   "outputs": [
    {
     "data": {
      "text/plain": [
       "len\n",
       "960    40\n",
       "900    25\n",
       "Name: count, dtype: int64"
      ]
     },
     "execution_count": 9,
     "metadata": {},
     "output_type": "execute_result"
    }
   ],
   "source": [
    "d.df.group_by(\"date\").len().to_pandas()[\"len\"].value_counts()  # checking mins a day"
   ]
  },
  {
   "cell_type": "code",
   "execution_count": 25,
   "metadata": {},
   "outputs": [
    {
     "data": {
      "text/plain": [
       "60900"
      ]
     },
     "execution_count": 25,
     "metadata": {},
     "output_type": "execute_result"
    }
   ],
   "source": [
    "len(d.df.select(['GOOG', 'ARM']).to_numpy())"
   ]
  },
  {
   "cell_type": "markdown",
   "metadata": {},
   "source": [
    "### RESAMPLING IF NEEDED"
   ]
  },
  {
   "cell_type": "code",
   "execution_count": null,
   "metadata": {},
   "outputs": [
    {
     "data": {
      "text/html": [
       "<div><style>\n",
       ".dataframe > thead > tr,\n",
       ".dataframe > tbody > tr {\n",
       "  text-align: right;\n",
       "  white-space: pre-wrap;\n",
       "}\n",
       "</style>\n",
       "<small>shape: (5, 102)</small><table border=\"1\" class=\"dataframe\"><thead><tr><th>time</th><th>date</th><th>GOOG</th><th>ARM</th><th>ASML</th><th>AMD</th><th>GOOGL</th><th>NFLX</th><th>META</th><th>INTC</th><th>MSFT</th><th>MU</th><th>TSLA</th><th>QCOM</th><th>AAPL</th><th>NVDA</th><th>PDD</th><th>AMZN</th><th>TTD</th><th>PEP</th><th>SBUX</th><th>CRWD</th><th>ADBE</th><th>PYPL</th><th>AVGO</th><th>SNPS</th><th>MRNA</th><th>MELI</th><th>AMGN</th><th>MDB</th><th>LIN</th><th>BKNG</th><th>CEG</th><th>WBD</th><th>ISRG</th><th>EA</th><th>MNST</th><th>&hellip;</th><th>DXCM</th><th>GILD</th><th>FANG</th><th>CMCSA</th><th>CSCO</th><th>DLTR</th><th>ADP</th><th>ZS</th><th>MCHP</th><th>ADI</th><th>KHC</th><th>HON</th><th>ORLY</th><th>MDLZ</th><th>ROST</th><th>TEAM</th><th>FTNT</th><th>ADSK</th><th>KDP</th><th>CCEP</th><th>REGN</th><th>ANSS</th><th>AEP</th><th>TTWO</th><th>XEL</th><th>GEHC</th><th>CPRT</th><th>PCAR</th><th>CTSH</th><th>VRTX</th><th>PAYX</th><th>CSGP</th><th>CDW</th><th>FAST</th><th>MAR</th><th>ROP</th><th>IDXX</th></tr><tr><td>time</td><td>date</td><td>f64</td><td>f64</td><td>f64</td><td>f64</td><td>f64</td><td>f64</td><td>f64</td><td>f64</td><td>f64</td><td>f64</td><td>f64</td><td>f64</td><td>f64</td><td>f64</td><td>f64</td><td>f64</td><td>f64</td><td>f64</td><td>f64</td><td>f64</td><td>f64</td><td>f64</td><td>f64</td><td>f64</td><td>f64</td><td>f64</td><td>f64</td><td>f64</td><td>f64</td><td>f64</td><td>f64</td><td>f64</td><td>f64</td><td>f64</td><td>f64</td><td>&hellip;</td><td>f64</td><td>f64</td><td>f64</td><td>f64</td><td>f64</td><td>f64</td><td>f64</td><td>f64</td><td>f64</td><td>f64</td><td>f64</td><td>f64</td><td>f64</td><td>f64</td><td>f64</td><td>f64</td><td>f64</td><td>f64</td><td>f64</td><td>f64</td><td>f64</td><td>f64</td><td>f64</td><td>f64</td><td>f64</td><td>f64</td><td>f64</td><td>f64</td><td>f64</td><td>f64</td><td>f64</td><td>f64</td><td>f64</td><td>f64</td><td>f64</td><td>f64</td><td>f64</td></tr></thead><tbody><tr><td>09:00:00</td><td>2024-09-30</td><td>165.11</td><td>142.98</td><td>841.41</td><td>164.15</td><td>163.78</td><td>707.0</td><td>566.43</td><td>23.72</td><td>426.92</td><td>106.13</td><td>261.0</td><td>170.15</td><td>229.09</td><td>119.42</td><td>142.39</td><td>187.58</td><td>109.45</td><td>169.9</td><td>97.36</td><td>285.45</td><td>514.6</td><td>77.85</td><td>172.3</td><td>512.34</td><td>65.8</td><td>2061.25</td><td>323.39</td><td>269.53</td><td>479.2</td><td>4248.99</td><td>257.0</td><td>8.34</td><td>480.0</td><td>144.78</td><td>52.46</td><td>&hellip;</td><td>67.4</td><td>83.46</td><td>170.59</td><td>41.6</td><td>53.01</td><td>73.4</td><td>272.69</td><td>171.75</td><td>80.58</td><td>232.03</td><td>35.44</td><td>207.63</td><td>1146.82</td><td>74.2</td><td>151.56</td><td>161.08</td><td>77.25</td><td>270.01</td><td>37.53</td><td>79.18</td><td>1045.04</td><td>323.72</td><td>101.83</td><td>152.76</td><td>64.57</td><td>92.05</td><td>51.9</td><td>98.12</td><td>76.89</td><td>462.86</td><td>132.99</td><td>75.0</td><td>226.55</td><td>71.52</td><td>253.04</td><td>554.2</td><td>511.77</td></tr><tr><td>10:00:00</td><td>2024-09-30</td><td>165.26</td><td>142.31</td><td>844.1</td><td>162.4</td><td>163.81</td><td>706.11</td><td>567.34</td><td>23.62</td><td>427.28</td><td>105.6</td><td>261.33</td><td>168.83</td><td>230.15</td><td>119.16</td><td>141.34</td><td>187.56</td><td>109.45</td><td>170.5</td><td>97.48</td><td>283.81</td><td>513.99</td><td>77.86</td><td>170.62</td><td>511.76</td><td>66.0</td><td>2066.53</td><td>323.08</td><td>269.8</td><td>481.0</td><td>4248.99</td><td>258.16</td><td>8.34</td><td>480.0</td><td>144.78</td><td>52.46</td><td>&hellip;</td><td>67.4</td><td>83.52</td><td>170.59</td><td>41.6</td><td>53.01</td><td>73.4</td><td>273.8</td><td>171.45</td><td>80.58</td><td>229.51</td><td>35.37</td><td>207.63</td><td>1143.72</td><td>74.2</td><td>151.56</td><td>161.08</td><td>77.25</td><td>273.2</td><td>37.53</td><td>79.18</td><td>1040.4</td><td>323.72</td><td>101.83</td><td>152.76</td><td>64.57</td><td>92.05</td><td>51.9</td><td>98.12</td><td>76.89</td><td>464.46</td><td>132.99</td><td>75.0</td><td>226.55</td><td>71.52</td><td>253.04</td><td>554.2</td><td>511.77</td></tr><tr><td>11:00:00</td><td>2024-09-30</td><td>165.14</td><td>142.32</td><td>842.64</td><td>162.24</td><td>163.79</td><td>705.78</td><td>567.0</td><td>23.61</td><td>427.4</td><td>106.17</td><td>260.69</td><td>169.14</td><td>229.74</td><td>119.12</td><td>141.63</td><td>187.6</td><td>109.0</td><td>170.31</td><td>97.63</td><td>284.96</td><td>514.33</td><td>77.8</td><td>170.31</td><td>511.35</td><td>66.22</td><td>2065.25</td><td>324.97</td><td>268.79</td><td>481.01</td><td>4248.99</td><td>258.51</td><td>8.37</td><td>479.53</td><td>144.78</td><td>52.46</td><td>&hellip;</td><td>67.4</td><td>83.44</td><td>170.59</td><td>41.72</td><td>53.01</td><td>73.15</td><td>273.8</td><td>170.84</td><td>79.5</td><td>229.0</td><td>35.44</td><td>207.63</td><td>1144.51</td><td>74.2</td><td>151.56</td><td>161.08</td><td>77.52</td><td>274.46</td><td>37.53</td><td>79.18</td><td>1040.4</td><td>325.6</td><td>101.83</td><td>152.76</td><td>64.57</td><td>92.05</td><td>51.9</td><td>98.12</td><td>76.89</td><td>464.46</td><td>132.99</td><td>75.0</td><td>226.55</td><td>71.52</td><td>253.04</td><td>554.2</td><td>511.77</td></tr><tr><td>12:00:00</td><td>2024-09-30</td><td>164.64</td><td>140.77</td><td>837.92</td><td>160.62</td><td>163.36</td><td>704.67</td><td>564.71</td><td>23.36</td><td>426.79</td><td>105.86</td><td>258.91</td><td>168.03</td><td>229.55</td><td>117.95</td><td>141.0</td><td>186.36</td><td>108.94</td><td>170.47</td><td>97.71</td><td>283.85</td><td>514.25</td><td>77.43</td><td>169.67</td><td>508.48</td><td>65.8</td><td>2064.9</td><td>323.36</td><td>268.0</td><td>480.71</td><td>4250.0</td><td>255.0</td><td>8.35</td><td>478.0</td><td>144.86</td><td>52.5</td><td>&hellip;</td><td>67.5</td><td>83.46</td><td>170.4</td><td>41.67</td><td>53.0</td><td>73.15</td><td>273.97</td><td>171.18</td><td>79.18</td><td>227.82</td><td>35.41</td><td>207.3</td><td>1144.76</td><td>74.09</td><td>151.56</td><td>161.19</td><td>77.34</td><td>273.19</td><td>37.53</td><td>79.18</td><td>1041.58</td><td>325.0</td><td>101.84</td><td>152.65</td><td>64.57</td><td>92.14</td><td>51.9</td><td>98.12</td><td>76.89</td><td>464.46</td><td>132.99</td><td>75.25</td><td>225.22</td><td>71.52</td><td>253.04</td><td>552.5</td><td>511.8</td></tr><tr><td>13:00:00</td><td>2024-09-30</td><td>165.07</td><td>141.15</td><td>837.2</td><td>162.42</td><td>163.72</td><td>705.65</td><td>566.82</td><td>23.56</td><td>427.73</td><td>106.13</td><td>258.59</td><td>169.03</td><td>230.31</td><td>118.18</td><td>142.17</td><td>186.81</td><td>108.8</td><td>170.3</td><td>97.87</td><td>284.94</td><td>515.03</td><td>77.48</td><td>170.85</td><td>509.93</td><td>65.78</td><td>2060.56</td><td>322.67</td><td>268.0</td><td>480.98</td><td>4248.0</td><td>256.53</td><td>8.33</td><td>479.3</td><td>144.86</td><td>52.6</td><td>&hellip;</td><td>67.5</td><td>83.59</td><td>170.63</td><td>41.72</td><td>53.02</td><td>73.32</td><td>273.8</td><td>171.0</td><td>78.98</td><td>227.6</td><td>35.48</td><td>207.84</td><td>1144.76</td><td>74.09</td><td>151.91</td><td>160.5</td><td>77.33</td><td>275.0</td><td>37.53</td><td>79.25</td><td>1042.7</td><td>325.0</td><td>101.85</td><td>152.65</td><td>64.57</td><td>92.15</td><td>52.14</td><td>98.12</td><td>76.89</td><td>464.46</td><td>132.99</td><td>75.25</td><td>226.0</td><td>71.52</td><td>253.25</td><td>555.0</td><td>511.8</td></tr></tbody></table></div>"
      ],
      "text/plain": [
       "shape: (5, 102)\n",
       "┌──────────┬────────────┬────────┬────────┬───┬───────┬────────┬───────┬────────┐\n",
       "│ time     ┆ date       ┆ GOOG   ┆ ARM    ┆ … ┆ FAST  ┆ MAR    ┆ ROP   ┆ IDXX   │\n",
       "│ ---      ┆ ---        ┆ ---    ┆ ---    ┆   ┆ ---   ┆ ---    ┆ ---   ┆ ---    │\n",
       "│ time     ┆ date       ┆ f64    ┆ f64    ┆   ┆ f64   ┆ f64    ┆ f64   ┆ f64    │\n",
       "╞══════════╪════════════╪════════╪════════╪═══╪═══════╪════════╪═══════╪════════╡\n",
       "│ 09:00:00 ┆ 2024-09-30 ┆ 165.11 ┆ 142.98 ┆ … ┆ 71.52 ┆ 253.04 ┆ 554.2 ┆ 511.77 │\n",
       "│ 10:00:00 ┆ 2024-09-30 ┆ 165.26 ┆ 142.31 ┆ … ┆ 71.52 ┆ 253.04 ┆ 554.2 ┆ 511.77 │\n",
       "│ 11:00:00 ┆ 2024-09-30 ┆ 165.14 ┆ 142.32 ┆ … ┆ 71.52 ┆ 253.04 ┆ 554.2 ┆ 511.77 │\n",
       "│ 12:00:00 ┆ 2024-09-30 ┆ 164.64 ┆ 140.77 ┆ … ┆ 71.52 ┆ 253.04 ┆ 552.5 ┆ 511.8  │\n",
       "│ 13:00:00 ┆ 2024-09-30 ┆ 165.07 ┆ 141.15 ┆ … ┆ 71.52 ┆ 253.25 ┆ 555.0 ┆ 511.8  │\n",
       "└──────────┴────────────┴────────┴────────┴───┴───────┴────────┴───────┴────────┘"
      ]
     },
     "execution_count": 19,
     "metadata": {},
     "output_type": "execute_result"
    }
   ],
   "source": [
    "resampled = d.resample_df(resample_freq=\"1h\")\n",
    "resampled.head()"
   ]
  },
  {
   "cell_type": "markdown",
   "metadata": {},
   "source": [
    "### Filter for pre market post"
   ]
  },
  {
   "cell_type": "markdown",
   "metadata": {},
   "source": [
    "#### can also filter first then resample"
   ]
  },
  {
   "cell_type": "code",
   "execution_count": null,
   "metadata": {},
   "outputs": [
    {
     "data": {
      "text/html": [
       "<div><style>\n",
       ".dataframe > thead > tr,\n",
       ".dataframe > tbody > tr {\n",
       "  text-align: right;\n",
       "  white-space: pre-wrap;\n",
       "}\n",
       "</style>\n",
       "<small>shape: (5, 104)</small><table border=\"1\" class=\"dataframe\"><thead><tr><th>date</th><th>min_time</th><th>max_time</th><th>time</th><th>GOOG</th><th>ARM</th><th>ASML</th><th>AMD</th><th>GOOGL</th><th>NFLX</th><th>META</th><th>INTC</th><th>MSFT</th><th>MU</th><th>TSLA</th><th>QCOM</th><th>AAPL</th><th>NVDA</th><th>PDD</th><th>AMZN</th><th>TTD</th><th>PEP</th><th>SBUX</th><th>CRWD</th><th>ADBE</th><th>PYPL</th><th>AVGO</th><th>SNPS</th><th>MRNA</th><th>MELI</th><th>AMGN</th><th>MDB</th><th>LIN</th><th>BKNG</th><th>CEG</th><th>WBD</th><th>ISRG</th><th>&hellip;</th><th>DXCM</th><th>GILD</th><th>FANG</th><th>CMCSA</th><th>CSCO</th><th>DLTR</th><th>ADP</th><th>ZS</th><th>MCHP</th><th>ADI</th><th>KHC</th><th>HON</th><th>ORLY</th><th>MDLZ</th><th>ROST</th><th>TEAM</th><th>FTNT</th><th>ADSK</th><th>KDP</th><th>CCEP</th><th>REGN</th><th>ANSS</th><th>AEP</th><th>TTWO</th><th>XEL</th><th>GEHC</th><th>CPRT</th><th>PCAR</th><th>CTSH</th><th>VRTX</th><th>PAYX</th><th>CSGP</th><th>CDW</th><th>FAST</th><th>MAR</th><th>ROP</th><th>IDXX</th></tr><tr><td>date</td><td>time</td><td>time</td><td>time</td><td>f64</td><td>f64</td><td>f64</td><td>f64</td><td>f64</td><td>f64</td><td>f64</td><td>f64</td><td>f64</td><td>f64</td><td>f64</td><td>f64</td><td>f64</td><td>f64</td><td>f64</td><td>f64</td><td>f64</td><td>f64</td><td>f64</td><td>f64</td><td>f64</td><td>f64</td><td>f64</td><td>f64</td><td>f64</td><td>f64</td><td>f64</td><td>f64</td><td>f64</td><td>f64</td><td>f64</td><td>f64</td><td>f64</td><td>&hellip;</td><td>f64</td><td>f64</td><td>f64</td><td>f64</td><td>f64</td><td>f64</td><td>f64</td><td>f64</td><td>f64</td><td>f64</td><td>f64</td><td>f64</td><td>f64</td><td>f64</td><td>f64</td><td>f64</td><td>f64</td><td>f64</td><td>f64</td><td>f64</td><td>f64</td><td>f64</td><td>f64</td><td>f64</td><td>f64</td><td>f64</td><td>f64</td><td>f64</td><td>f64</td><td>f64</td><td>f64</td><td>f64</td><td>f64</td><td>f64</td><td>f64</td><td>f64</td><td>f64</td></tr></thead><tbody><tr><td>2024-09-30</td><td>08:00:00</td><td>23:59:00</td><td>13:30:00</td><td>165.1</td><td>142.3</td><td>836.11</td><td>163.25</td><td>163.85</td><td>705.57</td><td>565.5</td><td>23.83</td><td>426.55</td><td>106.6</td><td>258.4</td><td>171.165</td><td>231.01</td><td>118.81</td><td>140.47</td><td>186.96</td><td>108.18</td><td>171.4</td><td>97.15</td><td>283.7</td><td>513.21</td><td>77.96</td><td>170.4</td><td>509.46</td><td>66.09</td><td>2056.73</td><td>321.46</td><td>267.0</td><td>479.37</td><td>4212.8</td><td>255.88</td><td>8.335</td><td>480.02</td><td>&hellip;</td><td>67.79</td><td>83.43</td><td>170.56</td><td>41.79</td><td>53.13</td><td>72.78</td><td>274.4</td><td>170.76</td><td>79.48</td><td>229.05</td><td>35.42</td><td>208.73</td><td>1155.41</td><td>74.27</td><td>152.14</td><td>160.86</td><td>77.875</td><td>273.21</td><td>37.79</td><td>79.6</td><td>1042.33</td><td>322.455</td><td>102.28</td><td>153.235</td><td>64.92</td><td>94.085</td><td>52.195</td><td>97.81</td><td>77.12</td><td>462.98</td><td>133.88</td><td>74.73</td><td>226.6</td><td>71.32</td><td>253.13</td><td>555.28</td><td>511.8</td></tr><tr><td>2024-09-30</td><td>08:00:00</td><td>23:59:00</td><td>13:31:00</td><td>165.83</td><td>143.08</td><td>839.6</td><td>163.69</td><td>164.52</td><td>705.455</td><td>565.49</td><td>23.87</td><td>428.01</td><td>106.25</td><td>260.95</td><td>171.99</td><td>231.98</td><td>119.46</td><td>140.45</td><td>186.92</td><td>108.16</td><td>171.27</td><td>96.86</td><td>283.9</td><td>513.89</td><td>77.9</td><td>171.22</td><td>512.05</td><td>65.8</td><td>2056.99</td><td>320.95</td><td>267.5</td><td>478.93</td><td>4202.345</td><td>256.06</td><td>8.285</td><td>482.5</td><td>&hellip;</td><td>68.04</td><td>83.22</td><td>170.12</td><td>41.71</td><td>52.95</td><td>72.95</td><td>273.73</td><td>170.58</td><td>79.59</td><td>230.0</td><td>35.35</td><td>208.09</td><td>1151.0</td><td>74.03</td><td>151.66</td><td>161.42</td><td>77.83</td><td>273.08</td><td>37.65</td><td>79.21</td><td>1042.33</td><td>322.455</td><td>102.13</td><td>153.55</td><td>64.58</td><td>93.17</td><td>52.23</td><td>97.98</td><td>77.155</td><td>463.13</td><td>133.7</td><td>74.54</td><td>226.6</td><td>71.32</td><td>251.86</td><td>555.28</td><td>511.8</td></tr><tr><td>2024-09-30</td><td>08:00:00</td><td>23:59:00</td><td>13:32:00</td><td>166.41</td><td>143.13</td><td>838.3</td><td>163.4</td><td>165.12</td><td>706.34</td><td>567.25</td><td>23.83</td><td>428.56</td><td>105.92</td><td>261.29</td><td>171.0</td><td>231.69</td><td>119.39</td><td>139.14</td><td>187.715</td><td>108.25</td><td>171.43</td><td>96.96</td><td>283.71</td><td>513.97</td><td>77.97</td><td>170.88</td><td>511.75</td><td>65.72</td><td>2062.24</td><td>319.9</td><td>268.03</td><td>478.45</td><td>4195.96</td><td>254.39</td><td>8.19</td><td>482.3</td><td>&hellip;</td><td>67.93</td><td>83.45</td><td>170.11</td><td>41.8</td><td>52.8</td><td>72.39</td><td>273.73</td><td>171.395</td><td>79.66</td><td>229.49</td><td>35.265</td><td>207.85</td><td>1150.52</td><td>74.05</td><td>151.66</td><td>161.2</td><td>77.4</td><td>273.66</td><td>37.58</td><td>79.28</td><td>1042.33</td><td>322.455</td><td>102.13</td><td>153.55</td><td>64.47</td><td>93.1</td><td>52.23</td><td>97.37</td><td>77.12</td><td>464.4</td><td>133.58</td><td>74.65</td><td>226.6</td><td>71.16</td><td>251.57</td><td>555.28</td><td>512.25</td></tr><tr><td>2024-09-30</td><td>08:00:00</td><td>23:59:00</td><td>13:33:00</td><td>166.275</td><td>143.1</td><td>839.1</td><td>163.13</td><td>165.01</td><td>706.82</td><td>567.3</td><td>23.82</td><td>429.1</td><td>105.82</td><td>261.3</td><td>170.93</td><td>232.27</td><td>119.47</td><td>138.51</td><td>187.36</td><td>108.18</td><td>171.21</td><td>96.98</td><td>284.28</td><td>514.78</td><td>77.975</td><td>171.095</td><td>511.05</td><td>65.675</td><td>2062.14</td><td>319.89</td><td>268.17</td><td>478.39</td><td>4210.75</td><td>254.55</td><td>8.175</td><td>482.4</td><td>&hellip;</td><td>67.62</td><td>83.41</td><td>170.14</td><td>41.76</td><td>52.77</td><td>72.1</td><td>273.01</td><td>171.71</td><td>79.78</td><td>229.61</td><td>35.27</td><td>207.75</td><td>1149.7</td><td>74.08</td><td>151.5</td><td>160.77</td><td>77.35</td><td>273.72</td><td>37.63</td><td>79.4</td><td>1042.21</td><td>323.76</td><td>101.72</td><td>154.24</td><td>64.41</td><td>93.17</td><td>52.09</td><td>97.55</td><td>77.17</td><td>465.085</td><td>133.02</td><td>74.835</td><td>226.6</td><td>71.18</td><td>251.5</td><td>553.96</td><td>511.59</td></tr><tr><td>2024-09-30</td><td>08:00:00</td><td>23:59:00</td><td>13:34:00</td><td>166.15</td><td>142.57</td><td>838.98</td><td>162.87</td><td>164.88</td><td>706.75</td><td>567.25</td><td>23.71</td><td>428.685</td><td>105.58</td><td>262.35</td><td>170.09</td><td>232.31</td><td>119.61</td><td>139.53</td><td>187.33</td><td>108.49</td><td>170.99</td><td>97.15</td><td>283.8</td><td>514.63</td><td>77.75</td><td>171.02</td><td>510.945</td><td>65.78</td><td>2059.65</td><td>319.57</td><td>268.2</td><td>477.88</td><td>4210.95</td><td>252.5</td><td>8.19</td><td>483.24</td><td>&hellip;</td><td>67.66</td><td>83.37</td><td>170.12</td><td>41.72</td><td>52.82</td><td>72.22</td><td>273.17</td><td>171.59</td><td>79.98</td><td>229.425</td><td>35.26</td><td>207.68</td><td>1147.85</td><td>74.14</td><td>151.67</td><td>160.82</td><td>77.51</td><td>273.87</td><td>37.59</td><td>79.4</td><td>1042.21</td><td>323.0</td><td>101.54</td><td>154.3</td><td>64.505</td><td>93.26</td><td>52.06</td><td>97.44</td><td>76.87</td><td>466.97</td><td>133.02</td><td>74.825</td><td>226.6</td><td>71.035</td><td>251.5</td><td>552.35</td><td>511.38</td></tr></tbody></table></div>"
      ],
      "text/plain": [
       "shape: (5, 104)\n",
       "┌────────────┬──────────┬──────────┬──────────┬───┬────────┬────────┬────────┬────────┐\n",
       "│ date       ┆ min_time ┆ max_time ┆ time     ┆ … ┆ FAST   ┆ MAR    ┆ ROP    ┆ IDXX   │\n",
       "│ ---        ┆ ---      ┆ ---      ┆ ---      ┆   ┆ ---    ┆ ---    ┆ ---    ┆ ---    │\n",
       "│ date       ┆ time     ┆ time     ┆ time     ┆   ┆ f64    ┆ f64    ┆ f64    ┆ f64    │\n",
       "╞════════════╪══════════╪══════════╪══════════╪═══╪════════╪════════╪════════╪════════╡\n",
       "│ 2024-09-30 ┆ 08:00:00 ┆ 23:59:00 ┆ 13:30:00 ┆ … ┆ 71.32  ┆ 253.13 ┆ 555.28 ┆ 511.8  │\n",
       "│ 2024-09-30 ┆ 08:00:00 ┆ 23:59:00 ┆ 13:31:00 ┆ … ┆ 71.32  ┆ 251.86 ┆ 555.28 ┆ 511.8  │\n",
       "│ 2024-09-30 ┆ 08:00:00 ┆ 23:59:00 ┆ 13:32:00 ┆ … ┆ 71.16  ┆ 251.57 ┆ 555.28 ┆ 512.25 │\n",
       "│ 2024-09-30 ┆ 08:00:00 ┆ 23:59:00 ┆ 13:33:00 ┆ … ┆ 71.18  ┆ 251.5  ┆ 553.96 ┆ 511.59 │\n",
       "│ 2024-09-30 ┆ 08:00:00 ┆ 23:59:00 ┆ 13:34:00 ┆ … ┆ 71.035 ┆ 251.5  ┆ 552.35 ┆ 511.38 │\n",
       "└────────────┴──────────┴──────────┴──────────┴───┴────────┴────────┴────────┴────────┘"
      ]
     },
     "execution_count": 60,
     "metadata": {},
     "output_type": "execute_result"
    }
   ],
   "source": [
    "filtered_hours = d.filter_hours(hours=market_hours.MARKET)\n",
    "filtered_hours.head()"
   ]
  },
  {
   "cell_type": "markdown",
   "metadata": {},
   "source": [
    "# Clustering"
   ]
  },
  {
   "cell_type": "code",
   "execution_count": 61,
   "metadata": {},
   "outputs": [],
   "source": [
    "c = Clustering(df=resampled.select(pl.all().exclude([\"date\", \"time\"])))"
   ]
  },
  {
   "cell_type": "markdown",
   "metadata": {},
   "source": [
    "### kmeans"
   ]
  },
  {
   "cell_type": "code",
   "execution_count": 62,
   "metadata": {},
   "outputs": [
    {
     "name": "stdout",
     "output_type": "stream",
     "text": [
      "1\n"
     ]
    }
   ],
   "source": [
    "c.run_clustering(method=\"kmeans\", min_clusters=5, max_clusters=20)"
   ]
  },
  {
   "cell_type": "code",
   "execution_count": 63,
   "metadata": {},
   "outputs": [
    {
     "data": {
      "text/plain": [
       "{2: ['GOOG',\n",
       "  'GOOGL',\n",
       "  'NFLX',\n",
       "  'META',\n",
       "  'AAPL',\n",
       "  'NVDA',\n",
       "  'AMZN',\n",
       "  'TTD',\n",
       "  'CRWD',\n",
       "  'PYPL',\n",
       "  'BKNG',\n",
       "  'ISRG',\n",
       "  'EA',\n",
       "  'MNST',\n",
       "  'ABNB',\n",
       "  'WDAY',\n",
       "  'CDNS',\n",
       "  'CHTR',\n",
       "  'VRSK',\n",
       "  'COST',\n",
       "  'INTU',\n",
       "  'DASH',\n",
       "  'TMUS',\n",
       "  'BKR',\n",
       "  'ILMN',\n",
       "  'GFS',\n",
       "  'DXCM',\n",
       "  'GILD',\n",
       "  'CSCO',\n",
       "  'DLTR',\n",
       "  'ADP',\n",
       "  'ZS',\n",
       "  'HON',\n",
       "  'ORLY',\n",
       "  'ROST',\n",
       "  'ADSK',\n",
       "  'ANSS',\n",
       "  'TTWO',\n",
       "  'XEL',\n",
       "  'CPRT',\n",
       "  'PCAR',\n",
       "  'CTSH',\n",
       "  'PAYX',\n",
       "  'FAST',\n",
       "  'MAR'],\n",
       " 0: ['ARM',\n",
       "  'ASML',\n",
       "  'AMD',\n",
       "  'INTC',\n",
       "  'MU',\n",
       "  'PDD',\n",
       "  'MRNA',\n",
       "  'MELI',\n",
       "  'AMGN',\n",
       "  'MDB',\n",
       "  'CEG',\n",
       "  'BIIB',\n",
       "  'NXPI',\n",
       "  'AMAT',\n",
       "  'ON',\n",
       "  'KLAC',\n",
       "  'MCHP',\n",
       "  'REGN',\n",
       "  'VRTX',\n",
       "  'CDW',\n",
       "  'IDXX'],\n",
       " 3: ['MSFT',\n",
       "  'QCOM',\n",
       "  'PEP',\n",
       "  'SBUX',\n",
       "  'ADBE',\n",
       "  'SNPS',\n",
       "  'LIN',\n",
       "  'AZN',\n",
       "  'CTAS',\n",
       "  'CSX',\n",
       "  'ODFL',\n",
       "  'EXC',\n",
       "  'TXN',\n",
       "  'FANG',\n",
       "  'CMCSA',\n",
       "  'ADI',\n",
       "  'KHC',\n",
       "  'MDLZ',\n",
       "  'KDP',\n",
       "  'CCEP',\n",
       "  'AEP',\n",
       "  'GEHC',\n",
       "  'CSGP',\n",
       "  'ROP'],\n",
       " 5: ['TSLA', 'AVGO', 'WBD', 'MRVL', 'LULU', 'DDOG', 'TEAM', 'FTNT'],\n",
       " 1: ['LRCX'],\n",
       " 4: ['PANW']}"
      ]
     },
     "execution_count": 63,
     "metadata": {},
     "output_type": "execute_result"
    }
   ],
   "source": [
    "c.cluster_pairs"
   ]
  },
  {
   "cell_type": "markdown",
   "metadata": {},
   "source": [
    "### agnes"
   ]
  },
  {
   "cell_type": "code",
   "execution_count": 64,
   "metadata": {},
   "outputs": [
    {
     "name": "stdout",
     "output_type": "stream",
     "text": [
      "3\n"
     ]
    }
   ],
   "source": [
    "c.run_clustering(method=\"agnes\", min_clusters=5, max_clusters=20)"
   ]
  },
  {
   "cell_type": "code",
   "execution_count": 65,
   "metadata": {},
   "outputs": [
    {
     "data": {
      "text/plain": [
       "{6: ['GOOG',\n",
       "  'GOOGL',\n",
       "  'NFLX',\n",
       "  'NVDA',\n",
       "  'AMZN',\n",
       "  'CRWD',\n",
       "  'BKNG',\n",
       "  'DDOG',\n",
       "  'DASH',\n",
       "  'DXCM',\n",
       "  'FTNT',\n",
       "  'TTWO'],\n",
       " 2: ['ARM',\n",
       "  'ASML',\n",
       "  'AMD',\n",
       "  'INTC',\n",
       "  'MU',\n",
       "  'MELI',\n",
       "  'AMGN',\n",
       "  'MDB',\n",
       "  'CEG',\n",
       "  'BIIB',\n",
       "  'NXPI',\n",
       "  'AMAT',\n",
       "  'ON',\n",
       "  'KLAC',\n",
       "  'MCHP',\n",
       "  'REGN',\n",
       "  'VRTX',\n",
       "  'CDW',\n",
       "  'IDXX'],\n",
       " 0: ['META',\n",
       "  'AAPL',\n",
       "  'TTD',\n",
       "  'PYPL',\n",
       "  'ISRG',\n",
       "  'MNST',\n",
       "  'ABNB',\n",
       "  'WDAY',\n",
       "  'CDNS',\n",
       "  'CHTR',\n",
       "  'VRSK',\n",
       "  'COST',\n",
       "  'INTU',\n",
       "  'TMUS',\n",
       "  'BKR',\n",
       "  'ILMN',\n",
       "  'GFS',\n",
       "  'GILD',\n",
       "  'CSCO',\n",
       "  'DLTR',\n",
       "  'ADP',\n",
       "  'ZS',\n",
       "  'HON',\n",
       "  'ORLY',\n",
       "  'ROST',\n",
       "  'ADSK',\n",
       "  'ANSS',\n",
       "  'XEL',\n",
       "  'CPRT',\n",
       "  'PCAR',\n",
       "  'CTSH',\n",
       "  'PAYX',\n",
       "  'CSGP',\n",
       "  'FAST',\n",
       "  'MAR'],\n",
       " 5: ['MSFT',\n",
       "  'QCOM',\n",
       "  'PEP',\n",
       "  'SBUX',\n",
       "  'ADBE',\n",
       "  'SNPS',\n",
       "  'LIN',\n",
       "  'EA',\n",
       "  'AZN',\n",
       "  'CTAS',\n",
       "  'CSX',\n",
       "  'ODFL',\n",
       "  'EXC',\n",
       "  'TXN',\n",
       "  'FANG',\n",
       "  'CMCSA',\n",
       "  'ADI',\n",
       "  'KHC',\n",
       "  'MDLZ',\n",
       "  'KDP',\n",
       "  'CCEP',\n",
       "  'AEP',\n",
       "  'GEHC',\n",
       "  'ROP'],\n",
       " 1: ['TSLA', 'AVGO', 'WBD', 'MRVL', 'LULU', 'TEAM'],\n",
       " 3: ['PDD', 'MRNA'],\n",
       " 7: ['LRCX'],\n",
       " 4: ['PANW']}"
      ]
     },
     "execution_count": 65,
     "metadata": {},
     "output_type": "execute_result"
    }
   ],
   "source": [
    "c.cluster_pairs"
   ]
  },
  {
   "cell_type": "markdown",
   "metadata": {},
   "source": [
    "### dbscan (this like doesnt work)"
   ]
  },
  {
   "cell_type": "code",
   "execution_count": 66,
   "metadata": {},
   "outputs": [],
   "source": [
    "c.run_clustering(method=\"dbscan\", eps_values=[1, 3, 100], min_samples_values=[1, 3, 5])"
   ]
  },
  {
   "cell_type": "code",
   "execution_count": 67,
   "metadata": {},
   "outputs": [
    {
     "data": {
      "text/plain": [
       "{0: ['GOOG',\n",
       "  'ARM',\n",
       "  'ASML',\n",
       "  'AMD',\n",
       "  'GOOGL',\n",
       "  'NFLX',\n",
       "  'META',\n",
       "  'INTC',\n",
       "  'MSFT',\n",
       "  'MU',\n",
       "  'TSLA',\n",
       "  'QCOM',\n",
       "  'AAPL',\n",
       "  'NVDA',\n",
       "  'PDD',\n",
       "  'AMZN',\n",
       "  'TTD',\n",
       "  'PEP',\n",
       "  'SBUX',\n",
       "  'CRWD',\n",
       "  'ADBE',\n",
       "  'PYPL',\n",
       "  'AVGO',\n",
       "  'SNPS',\n",
       "  'MRNA',\n",
       "  'MELI',\n",
       "  'AMGN',\n",
       "  'MDB',\n",
       "  'LIN',\n",
       "  'BKNG',\n",
       "  'CEG',\n",
       "  'WBD',\n",
       "  'ISRG',\n",
       "  'EA',\n",
       "  'MNST',\n",
       "  'AZN',\n",
       "  'ABNB',\n",
       "  'MRVL',\n",
       "  'WDAY',\n",
       "  'CTAS',\n",
       "  'CDNS',\n",
       "  'CSX',\n",
       "  'CHTR',\n",
       "  'ODFL',\n",
       "  'EXC',\n",
       "  'VRSK',\n",
       "  'BIIB',\n",
       "  'NXPI',\n",
       "  'COST',\n",
       "  'LULU',\n",
       "  'TXN',\n",
       "  'INTU',\n",
       "  'DDOG',\n",
       "  'DASH',\n",
       "  'TMUS',\n",
       "  'BKR',\n",
       "  'AMAT',\n",
       "  'ILMN',\n",
       "  'GFS',\n",
       "  'ON',\n",
       "  'KLAC',\n",
       "  'PANW',\n",
       "  'DXCM',\n",
       "  'GILD',\n",
       "  'FANG',\n",
       "  'CMCSA',\n",
       "  'CSCO',\n",
       "  'DLTR',\n",
       "  'ADP',\n",
       "  'ZS',\n",
       "  'MCHP',\n",
       "  'ADI',\n",
       "  'KHC',\n",
       "  'HON',\n",
       "  'ORLY',\n",
       "  'MDLZ',\n",
       "  'ROST',\n",
       "  'TEAM',\n",
       "  'FTNT',\n",
       "  'ADSK',\n",
       "  'KDP',\n",
       "  'CCEP',\n",
       "  'REGN',\n",
       "  'ANSS',\n",
       "  'AEP',\n",
       "  'TTWO',\n",
       "  'XEL',\n",
       "  'GEHC',\n",
       "  'CPRT',\n",
       "  'PCAR',\n",
       "  'CTSH',\n",
       "  'VRTX',\n",
       "  'PAYX',\n",
       "  'CSGP',\n",
       "  'CDW',\n",
       "  'FAST',\n",
       "  'MAR',\n",
       "  'ROP',\n",
       "  'IDXX'],\n",
       " 1: ['LRCX']}"
      ]
     },
     "execution_count": 67,
     "metadata": {},
     "output_type": "execute_result"
    }
   ],
   "source": [
    "c.cluster_pairs"
   ]
  },
  {
   "cell_type": "markdown",
   "metadata": {},
   "source": [
    "### affinity prop"
   ]
  },
  {
   "cell_type": "code",
   "execution_count": 68,
   "metadata": {},
   "outputs": [],
   "source": [
    "c.run_clustering(\n",
    "    method=\"affinity_propagation\",\n",
    "    damping=0.9,\n",
    "    max_iter=200,\n",
    "    convergence_iter=15,\n",
    ")"
   ]
  },
  {
   "cell_type": "code",
   "execution_count": 69,
   "metadata": {},
   "outputs": [
    {
     "data": {
      "text/plain": [
       "{1: ['GOOG',\n",
       "  'ARM',\n",
       "  'ASML',\n",
       "  'AMD',\n",
       "  'GOOGL',\n",
       "  'NFLX',\n",
       "  'META',\n",
       "  'INTC',\n",
       "  'MSFT',\n",
       "  'MU',\n",
       "  'TSLA',\n",
       "  'QCOM',\n",
       "  'AAPL',\n",
       "  'NVDA',\n",
       "  'PDD',\n",
       "  'AMZN',\n",
       "  'TTD',\n",
       "  'PEP',\n",
       "  'SBUX',\n",
       "  'CRWD',\n",
       "  'ADBE',\n",
       "  'PYPL',\n",
       "  'AVGO',\n",
       "  'SNPS',\n",
       "  'MRNA',\n",
       "  'MELI',\n",
       "  'AMGN',\n",
       "  'MDB',\n",
       "  'LIN',\n",
       "  'BKNG',\n",
       "  'CEG',\n",
       "  'WBD',\n",
       "  'ISRG',\n",
       "  'EA',\n",
       "  'MNST',\n",
       "  'AZN',\n",
       "  'ABNB',\n",
       "  'MRVL',\n",
       "  'WDAY',\n",
       "  'CTAS',\n",
       "  'CDNS',\n",
       "  'CSX',\n",
       "  'CHTR',\n",
       "  'ODFL',\n",
       "  'EXC',\n",
       "  'VRSK',\n",
       "  'BIIB',\n",
       "  'NXPI',\n",
       "  'COST',\n",
       "  'LULU',\n",
       "  'TXN',\n",
       "  'INTU',\n",
       "  'DDOG',\n",
       "  'DASH',\n",
       "  'TMUS',\n",
       "  'BKR',\n",
       "  'AMAT',\n",
       "  'ILMN',\n",
       "  'GFS',\n",
       "  'ON',\n",
       "  'KLAC',\n",
       "  'PANW',\n",
       "  'DXCM',\n",
       "  'GILD',\n",
       "  'FANG',\n",
       "  'CMCSA',\n",
       "  'CSCO',\n",
       "  'DLTR',\n",
       "  'ADP',\n",
       "  'ZS',\n",
       "  'MCHP',\n",
       "  'ADI',\n",
       "  'KHC',\n",
       "  'HON',\n",
       "  'ORLY',\n",
       "  'MDLZ',\n",
       "  'ROST',\n",
       "  'TEAM',\n",
       "  'FTNT',\n",
       "  'ADSK',\n",
       "  'KDP',\n",
       "  'CCEP',\n",
       "  'REGN',\n",
       "  'ANSS',\n",
       "  'AEP',\n",
       "  'TTWO',\n",
       "  'XEL',\n",
       "  'GEHC',\n",
       "  'CPRT',\n",
       "  'PCAR',\n",
       "  'CTSH',\n",
       "  'VRTX',\n",
       "  'PAYX',\n",
       "  'CSGP',\n",
       "  'CDW',\n",
       "  'FAST',\n",
       "  'MAR',\n",
       "  'ROP',\n",
       "  'IDXX'],\n",
       " 0: ['LRCX']}"
      ]
     },
     "execution_count": 69,
     "metadata": {},
     "output_type": "execute_result"
    }
   ],
   "source": [
    "c.cluster_pairs"
   ]
  },
  {
   "cell_type": "markdown",
   "metadata": {},
   "source": [
    "# COINTEGRATION"
   ]
  },
  {
   "cell_type": "code",
   "execution_count": null,
   "metadata": {},
   "outputs": [
    {
     "name": "stdout",
     "output_type": "stream",
     "text": [
      "3\n"
     ]
    }
   ],
   "source": [
    "# use KMEANS\n",
    "c.run_clustering(method=\"agnes\", min_clusters=5, max_clusters=20)"
   ]
  },
  {
   "cell_type": "code",
   "execution_count": 71,
   "metadata": {},
   "outputs": [],
   "source": [
    "find_pairs = cointegration_pairs(\n",
    "    df=resampled.select(pl.all().exclude([\"date\", \"time\"])),\n",
    "    p_val_cutoff=0.05,\n",
    "    cluster_pairs=c.cluster_pairs,\n",
    ")"
   ]
  },
  {
   "cell_type": "code",
   "execution_count": 72,
   "metadata": {},
   "outputs": [],
   "source": [
    "find_pairs.identify_pairs()"
   ]
  },
  {
   "cell_type": "code",
   "execution_count": 73,
   "metadata": {},
   "outputs": [
    {
     "data": {
      "text/plain": [
       "{('GOOG', 'GOOGL'): -3.5814670649348286,\n",
       " ('DDOG', 'DXCM'): -2.8669970788923793,\n",
       " ('BKNG', 'DASH'): -3.6743574368936307,\n",
       " ('NFLX', 'CRWD'): -3.2063072817004348,\n",
       " ('CRWD', 'DXCM'): -2.930356027807073,\n",
       " ('BKNG', 'TTWO'): -3.141429564723962,\n",
       " ('CRWD', 'FTNT'): -3.628122305945294,\n",
       " ('NFLX', 'DXCM'): -3.523022959534889,\n",
       " ('AMZN', 'CEG'): -2.869218221597542,\n",
       " ('INTC', 'META'): -3.098414553592758,\n",
       " ('AMD', 'IDXX'): -3.35919374168457,\n",
       " ('GOOG', 'MELI'): -3.8554216658036204,\n",
       " ('AMZN', 'NXPI'): -3.3645145160925396,\n",
       " ('ARM', 'IDXX'): -3.140618811166845,\n",
       " ('AMZN', 'AMAT'): -2.983834706271915,\n",
       " ('NFLX', 'BIIB'): -2.9027069168710415,\n",
       " ('AMZN', 'ON'): -3.107794791357866,\n",
       " ('GOOG', 'CEG'): -3.124401977923805,\n",
       " ('NFLX', 'AMAT'): -3.3285255073497995,\n",
       " ('AMZN', 'MCHP'): -3.0993597162632867,\n",
       " ('GOOG', 'NXPI'): -3.2715300910507152,\n",
       " ('BKNG', 'IDXX'): -2.8809170687621037,\n",
       " ('GOOG', 'ON'): -3.1902015462017914,\n",
       " ('ASML', 'IDXX'): -2.9874935728612755,\n",
       " ('DXCM', 'AMAT'): -3.494045246175811,\n",
       " ('DXCM', 'ON'): -3.080602516713902,\n",
       " ('TTWO', 'CDW'): -3.2196416429590005,\n",
       " ('NFLX', 'CDW'): -2.9512794095546235,\n",
       " ('TTWO', 'IDXX'): -2.917069534342101,\n",
       " ('CRWD', 'NXPI'): -3.0382425790088545,\n",
       " ('CRWD', 'AMAT'): -3.1473505828212516,\n",
       " ('CRWD', 'ON'): -2.8860431992836393,\n",
       " ('GOOGL', 'MELI'): -3.882544266182461,\n",
       " ('GOOGL', 'CEG'): -3.118025998907327,\n",
       " ('CRWD', 'CDW'): -3.160062573208553,\n",
       " ('GOOGL', 'NXPI'): -3.2790951979710075,\n",
       " ('GOOGL', 'ON'): -3.1950900020723667,\n",
       " ('BKNG', 'WDAY'): -3.1322248808068407,\n",
       " ('IDXX', 'PAYX'): -3.0403411016326203,\n",
       " ('BKNG', 'CDNS'): -3.7405198562769773,\n",
       " ('NVDA', 'MNST'): -3.367570076220259,\n",
       " ('PYPL', 'MSFT'): -3.4133127977425093,\n",
       " ('ARM', 'ILMN'): -3.274581495078684,\n",
       " ('NVDA', 'ABNB'): -3.83417380891682,\n",
       " ('REGN', 'PAYX'): -3.0868855618035793,\n",
       " ('INTC', 'ADP'): -2.937478812411153,\n",
       " ('GOOG', 'ABNB'): -3.108521182644203,\n",
       " ('DXCM', 'GFS'): -3.301765468707898,\n",
       " ('ON', 'PAYX'): -3.388807964680101,\n",
       " ('META', 'MSFT'): -3.0820856625086646,\n",
       " ('BKNG', 'GFS'): -3.8208117760516593,\n",
       " ('BIIB', 'PAYX'): -3.139131179284991,\n",
       " ('VRTX', 'PAYX'): -3.6620586651819362,\n",
       " ('KLAC', 'ANSS'): -2.941460550397844,\n",
       " ('AMGN', 'PAYX'): -3.263734240699405,\n",
       " ('BKNG', 'ADP'): -2.8768578477443807,\n",
       " ('INTC', 'PAYX'): -4.275654193217698,\n",
       " ('KLAC', 'PAYX'): -3.19073998701214,\n",
       " ('CDW', 'PAYX'): -3.158815463535681,\n",
       " ('MDB', 'ADP'): -3.233591443304707,\n",
       " ('ARM', 'PAYX'): -3.250726181209037,\n",
       " ('BKNG', 'ANSS'): -3.833853410296112,\n",
       " ('INTC', 'MSFT'): -3.172760865371491,\n",
       " ('CDW', 'MAR'): -2.9450182364241733,\n",
       " ('DXCM', 'PAYX'): -3.134092488046705,\n",
       " ('NXPI', 'PAYX'): -3.259709635671951,\n",
       " ('BKNG', 'PAYX'): -3.1851669356049634,\n",
       " ('MCHP', 'PAYX'): -3.1983075219847428,\n",
       " ('MDB', 'PCAR'): -3.253825400729192,\n",
       " ('BKNG', 'MAR'): -2.8699741480865497,\n",
       " ('NVDA', 'PAYX'): -3.757825137425085,\n",
       " ('MDB', 'PAYX'): -3.9747295917272036,\n",
       " ('MDB', 'CSGP'): -3.7203277401420616,\n",
       " ('ASML', 'ADP'): -2.996710728623403,\n",
       " ('MCHP', 'MSFT'): -2.926529810691736,\n",
       " ('GOOG', 'PAYX'): -3.253279453962878,\n",
       " ('FTNT', 'GFS'): -3.970377144350349,\n",
       " ('AMZN', 'ABNB'): -3.005032196503465,\n",
       " ('ASML', 'ADSK'): -3.1349235332658245,\n",
       " ('MU', 'PAYX'): -3.3974599154315177,\n",
       " ('AMZN', 'WDAY'): -3.298694666573493,\n",
       " ('AMAT', 'PAYX'): -3.1945127455431632,\n",
       " ('FTNT', 'HON'): -3.3013367168709142,\n",
       " ('DDOG', 'GFS'): -3.421885270707628,\n",
       " ('GOOGL', 'ABNB'): -3.1158845870088547,\n",
       " ('ASML', 'PAYX'): -3.4625278223269427,\n",
       " ('FTNT', 'ANSS'): -3.488863879072928,\n",
       " ('CEG', 'PAYX'): -3.2821334023736495,\n",
       " ('AMZN', 'GFS'): -3.454490753567114,\n",
       " ('FTNT', 'CTSH'): -3.218581700499398,\n",
       " ('DDOG', 'ROST'): -3.5791750254192936,\n",
       " ('FTNT', 'PAYX'): -3.0935374129491366,\n",
       " ('AMD', 'GFS'): -3.3075372759294517,\n",
       " ('FTNT', 'MAR'): -3.5602137716118745,\n",
       " ('DDOG', 'PAYX'): -3.122282018305553,\n",
       " ('MELI', 'PAYX'): -3.3289359273406354,\n",
       " ('TTWO', 'GFS'): -3.839724925469304,\n",
       " ('DASH', 'VRSK'): -3.0453950848153157,\n",
       " ('AMZN', 'PAYX'): -3.1396399898147136,\n",
       " ('AMD', 'PAYX'): -3.1395683046643286,\n",
       " ('CRWD', 'ABNB'): -2.9292159525143937,\n",
       " ('DASH', 'GFS'): -3.672214782653958,\n",
       " ('CRWD', 'WDAY'): -3.83555661069172,\n",
       " ('TTWO', 'ANSS'): -3.464561511383961,\n",
       " ('GOOGL', 'PAYX'): -3.26033067706677,\n",
       " ('DASH', 'ADP'): -2.997947096174825,\n",
       " ('NFLX', 'PYPL'): -3.6351526886993355,\n",
       " ('TTWO', 'PAYX'): -3.185898234075443,\n",
       " ('NFLX', 'ABNB'): -3.012174185687894,\n",
       " ('DASH', 'ADSK'): -2.9177744108281303,\n",
       " ('TTWO', 'MAR'): -3.3720718607074525,\n",
       " ('CRWD', 'GFS'): -3.8465948638440755,\n",
       " ('NFLX', 'WDAY'): -3.235701572342958,\n",
       " ('DASH', 'ANSS'): -4.079035859553164,\n",
       " ('DASH', 'XEL'): -3.035299399260422,\n",
       " ('DASH', 'CTSH'): -2.951752897908147,\n",
       " ('DASH', 'PAYX'): -3.154283413512848,\n",
       " ('CRWD', 'HON'): -3.136757720613684,\n",
       " ('DASH', 'MAR'): -2.9235576599099615,\n",
       " ('NFLX', 'GFS'): -3.758307832315859,\n",
       " ('CRWD', 'ANSS'): -2.956681126055426,\n",
       " ('CRWD', 'CTSH'): -2.917545957655288,\n",
       " ('CRWD', 'PAYX'): -3.0995856675115987,\n",
       " ('CRWD', 'MAR'): -3.4432378919078603,\n",
       " ('NFLX', 'PAYX'): -3.118867333863842,\n",
       " ('GOOG', 'QCOM'): -3.2690012068599015,\n",
       " ('CEG', 'AEP'): -3.2252355536961113,\n",
       " ('CEG', 'GEHC'): -3.0261627864338356,\n",
       " ('MU', 'CCEP'): -3.94283606224578,\n",
       " ('BIIB', 'GEHC'): -3.9729585076905205,\n",
       " ('GOOG', 'LIN'): -3.1382896394949595,\n",
       " ('BIIB', 'TSLA'): -3.0674661988362018,\n",
       " ('ARM', 'CCEP'): -3.89559157579666,\n",
       " ('AMZN', 'EXC'): -3.338236867291682,\n",
       " ('DASH', 'ADI'): -3.327324287292693,\n",
       " ('NXPI', 'TSLA'): -2.946928645900889,\n",
       " ('AMZN', 'FANG'): -3.5158276418550782,\n",
       " ('MELI', 'CCEP'): -3.812421440502191,\n",
       " ('MELI', 'AEP'): -3.4041017411820773,\n",
       " ('DASH', 'CCEP'): -3.677149035663182,\n",
       " ('AMZN', 'ADI'): -3.233125001722922,\n",
       " ('MELI', 'GEHC'): -2.8677094319573166,\n",
       " ('AMZN', 'MDLZ'): -2.9160847906159204,\n",
       " ('GOOG', 'FANG'): -3.860833153725434,\n",
       " ('MELI', 'TSLA'): -2.9141174906775027,\n",
       " ('GOOG', 'ADI'): -2.9806194149156533,\n",
       " ('AMZN', 'CCEP'): -3.659138618620672,\n",
       " ('AMGN', 'CCEP'): -3.6301565707172974,\n",
       " ('AMZN', 'GEHC'): -3.146897966298391,\n",
       " ('ASML', 'CCEP'): -3.534522774062478,\n",
       " ('AMGN', 'GEHC'): -3.479550147400039,\n",
       " ('GOOG', 'CCEP'): -3.6661664685505593,\n",
       " ('AMZN', 'TSLA'): -2.965972933845951,\n",
       " ('GOOG', 'AEP'): -3.5469132558174814,\n",
       " ('MDB', 'CCEP'): -4.06643300781413,\n",
       " ('DXCM', 'ADI'): -3.190376767025984,\n",
       " ('AMD', 'ADI'): -3.207257306911154,\n",
       " ('AMD', 'MDLZ'): -3.416765817400554,\n",
       " ('DXCM', 'CCEP'): -3.659815698615907,\n",
       " ('AMD', 'CCEP'): -3.6649994214365447,\n",
       " ('DXCM', 'GEHC'): -3.1999298843067097,\n",
       " ('GOOGL', 'LIN'): -3.1487842779957234,\n",
       " ('AMD', 'GEHC'): -3.6208110453883107,\n",
       " ('CRWD', 'ADI'): -3.6240247465781352,\n",
       " ('CRWD', 'CCEP'): -3.6724191262688666,\n",
       " ('CRWD', 'GEHC'): -2.933146702955115,\n",
       " ('INTC', 'CCEP'): -3.622482456060922,\n",
       " ('FTNT', 'ADI'): -3.417851641299634,\n",
       " ('GOOGL', 'FANG'): -3.809076771865194,\n",
       " ('GOOGL', 'ADI'): -2.96888133334508,\n",
       " ('FTNT', 'CCEP'): -3.690663794278824,\n",
       " ('GOOGL', 'CCEP'): -3.664767898236321,\n",
       " ('GOOGL', 'AEP'): -3.5679042038128643,\n",
       " ('BKNG', 'ADI'): -3.037781851650417,\n",
       " ('TTWO', 'ADI'): -3.4793452006390533,\n",
       " ('BKNG', 'CCEP'): -3.663737995061299,\n",
       " ('TTWO', 'CCEP'): -3.666060118990134,\n",
       " ('NFLX', 'ADI'): -3.3551589316447665,\n",
       " ('NFLX', 'CCEP'): -3.6615106800259642,\n",
       " ('NFLX', 'GEHC'): -3.383969741114446,\n",
       " ('DDOG', 'CCEP'): -3.7726027319841675,\n",
       " ('NVDA', 'CCEP'): -3.6589378503996186,\n",
       " ('CRWD', 'PDD'): -2.9098699357642603,\n",
       " ('NFLX', 'PDD'): -2.937269093148192,\n",
       " ('GOOG', 'LRCX'): -5.104454903158378,\n",
       " ('GOOGL', 'LRCX'): -5.111247852695614}"
      ]
     },
     "execution_count": 73,
     "metadata": {},
     "output_type": "execute_result"
    }
   ],
   "source": [
    "find_pairs.pairs"
   ]
  },
  {
   "cell_type": "code",
   "execution_count": 74,
   "metadata": {},
   "outputs": [],
   "source": [
    "trade_this = find_pairs.get_top_pairs(n=10)"
   ]
  },
  {
   "cell_type": "code",
   "execution_count": 75,
   "metadata": {},
   "outputs": [
    {
     "data": {
      "text/plain": [
       "[('BKNG', 'DASH'),\n",
       " ('CRWD', 'FTNT'),\n",
       " ('GOOG', 'GOOGL'),\n",
       " ('NFLX', 'DXCM'),\n",
       " ('NFLX', 'CRWD'),\n",
       " ('BKNG', 'TTWO'),\n",
       " ('CRWD', 'DXCM'),\n",
       " ('DDOG', 'DXCM'),\n",
       " ('AMD', 'IDXX'),\n",
       " ('ARM', 'IDXX'),\n",
       " ('ASML', 'IDXX')]"
      ]
     },
     "execution_count": 75,
     "metadata": {},
     "output_type": "execute_result"
    }
   ],
   "source": [
    "trade_this"
   ]
  }
 ],
 "metadata": {
  "kernelspec": {
   "display_name": "base",
   "language": "python",
   "name": "python3"
  },
  "language_info": {
   "codemirror_mode": {
    "name": "ipython",
    "version": 3
   },
   "file_extension": ".py",
   "mimetype": "text/x-python",
   "name": "python",
   "nbconvert_exporter": "python",
   "pygments_lexer": "ipython3",
   "version": "3.12.3"
  }
 },
 "nbformat": 4,
 "nbformat_minor": 2
}
